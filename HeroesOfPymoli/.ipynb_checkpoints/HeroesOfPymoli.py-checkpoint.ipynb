{
 "cells": [
  {
   "cell_type": "code",
   "execution_count": 1,
   "metadata": {},
   "outputs": [],
   "source": [
    "# Import module pandas\n",
    "\n",
    "import pandas as pd"
   ]
  },
  {
   "cell_type": "code",
   "execution_count": 2,
   "metadata": {},
   "outputs": [],
   "source": [
    "# Import csv\n",
    "\n",
    "file_to_load = \"Resources/purchase_data.csv\""
   ]
  },
  {
   "cell_type": "code",
   "execution_count": 3,
   "metadata": {
    "scrolled": true
   },
   "outputs": [],
   "source": [
    "# Create dataframe with csv data\n",
    "\n",
    "purchase_data = pd.read_csv(file_to_load)\n",
    "\n",
    "#purchase_data.head()"
   ]
  },
  {
   "cell_type": "code",
   "execution_count": 4,
   "metadata": {
    "scrolled": true
   },
   "outputs": [
    {
     "data": {
      "text/html": [
       "<div>\n",
       "<style scoped>\n",
       "    .dataframe tbody tr th:only-of-type {\n",
       "        vertical-align: middle;\n",
       "    }\n",
       "\n",
       "    .dataframe tbody tr th {\n",
       "        vertical-align: top;\n",
       "    }\n",
       "\n",
       "    .dataframe thead th {\n",
       "        text-align: right;\n",
       "    }\n",
       "</style>\n",
       "<table border=\"1\" class=\"dataframe\">\n",
       "  <thead>\n",
       "    <tr style=\"text-align: right;\">\n",
       "      <th></th>\n",
       "      <th>Total Players</th>\n",
       "    </tr>\n",
       "  </thead>\n",
       "  <tbody>\n",
       "    <tr>\n",
       "      <th>0</th>\n",
       "      <td>576</td>\n",
       "    </tr>\n",
       "  </tbody>\n",
       "</table>\n",
       "</div>"
      ],
      "text/plain": [
       "   Total Players\n",
       "0            576"
      ]
     },
     "execution_count": 4,
     "metadata": {},
     "output_type": "execute_result"
    }
   ],
   "source": [
    "# Find the total number of players\n",
    "\n",
    "count_players = purchase_data[\"SN\"].unique()\n",
    "\n",
    "#print(f\"Total Players: {len(count_players)}\")\n",
    "\n",
    "total_players = len(count_players)\n",
    "total_players_disp = pd.DataFrame({\"Total Players\":[total_players]})\n",
    "\n",
    "total_players_disp"
   ]
  },
  {
   "cell_type": "code",
   "execution_count": 5,
   "metadata": {
    "scrolled": true
   },
   "outputs": [],
   "source": [
    "# Find the number of unique items\n",
    "\n",
    "unique_items = purchase_data[\"Item Name\"].unique()\n",
    "\n",
    "#print(f\"Number of Uniques Items: {len(unique_items)}\")\n",
    "\n",
    "num_unique_items = len(unique_items)\n",
    "\n",
    "#print(f\"Number of Uniques Items: {num_unique_items}\")"
   ]
  },
  {
   "cell_type": "code",
   "execution_count": 6,
   "metadata": {
    "scrolled": true
   },
   "outputs": [],
   "source": [
    "# Calculate average purchase price, total number of purchases, and total revenue\n",
    "\n",
    "total_purchases = purchase_data[\"Price\"].count()\n",
    "sum_of_purchases = purchase_data[\"Price\"].sum()\n",
    "average_purchase = sum_of_purchases / total_purchases\n",
    "\n",
    "#average purchase"
   ]
  },
  {
   "cell_type": "code",
   "execution_count": 7,
   "metadata": {
    "scrolled": false
   },
   "outputs": [
    {
     "data": {
      "text/html": [
       "<div>\n",
       "<style scoped>\n",
       "    .dataframe tbody tr th:only-of-type {\n",
       "        vertical-align: middle;\n",
       "    }\n",
       "\n",
       "    .dataframe tbody tr th {\n",
       "        vertical-align: top;\n",
       "    }\n",
       "\n",
       "    .dataframe thead th {\n",
       "        text-align: right;\n",
       "    }\n",
       "</style>\n",
       "<table border=\"1\" class=\"dataframe\">\n",
       "  <thead>\n",
       "    <tr style=\"text-align: right;\">\n",
       "      <th></th>\n",
       "      <th>Number of Unique Items</th>\n",
       "      <th>Average Price</th>\n",
       "      <th>Number of Purchases</th>\n",
       "      <th>Total Revenue</th>\n",
       "    </tr>\n",
       "  </thead>\n",
       "  <tbody>\n",
       "    <tr>\n",
       "      <th>0</th>\n",
       "      <td>179</td>\n",
       "      <td>$3.05</td>\n",
       "      <td>780</td>\n",
       "      <td>$2379.77</td>\n",
       "    </tr>\n",
       "  </tbody>\n",
       "</table>\n",
       "</div>"
      ],
      "text/plain": [
       "   Number of Unique Items Average Price  Number of Purchases Total Revenue\n",
       "0                     179         $3.05                  780      $2379.77"
      ]
     },
     "execution_count": 7,
     "metadata": {},
     "output_type": "execute_result"
    }
   ],
   "source": [
    "#display the Purchasing Analysis in a dataframe table\n",
    "\n",
    "purchasing_stat = pd.DataFrame({\"Number of Unique Items\":[num_unique_items],\n",
    "                                     \"Average Price\":[\"${:.2f}\".format(average_purchase)],\n",
    "                                     \"Number of Purchases\":[total_purchases],\n",
    "                                     \"Total Revenue\":[\"${:.2f}\".format(sum_of_purchases)]})\n",
    "purchasing_stat"
   ]
  },
  {
   "cell_type": "code",
   "execution_count": 8,
   "metadata": {},
   "outputs": [],
   "source": [
    "#purchase_data[\"Gender\"].value_counts()"
   ]
  },
  {
   "cell_type": "code",
   "execution_count": 9,
   "metadata": {
    "scrolled": true
   },
   "outputs": [],
   "source": [
    "# Find the number of male players\n",
    "\n",
    "male_count = purchase_data.loc[purchase_data[\"Gender\"] == \"Male\"]\n",
    "\n",
    "#male_count\n",
    "\n",
    "male_total = len(male_count[\"SN\"].unique())\n",
    "\n",
    "#male_total"
   ]
  },
  {
   "cell_type": "code",
   "execution_count": 10,
   "metadata": {
    "scrolled": true
   },
   "outputs": [],
   "source": [
    "# Find the percent of male players\n",
    "\n",
    "male_percent = (male_total / total_players)*100\n",
    "\n",
    "#male_percent"
   ]
  },
  {
   "cell_type": "code",
   "execution_count": 11,
   "metadata": {},
   "outputs": [],
   "source": [
    "# Find the number of female players\n",
    "\n",
    "female_count = purchase_data.loc[purchase_data[\"Gender\"] == \"Female\"]\n",
    "\n",
    "#female_count\n",
    "\n",
    "female_total = len(female_count[\"SN\"].unique())\n",
    "\n",
    "#female_total"
   ]
  },
  {
   "cell_type": "code",
   "execution_count": 12,
   "metadata": {},
   "outputs": [],
   "source": [
    "# Find the percent of female players\n",
    "\n",
    "female_percent = (female_total / total_players)*100\n",
    "\n",
    "#female_percent"
   ]
  },
  {
   "cell_type": "code",
   "execution_count": 13,
   "metadata": {},
   "outputs": [],
   "source": [
    "# Find the number of other/non-disclosed players\n",
    "\n",
    "other_count = purchase_data.loc[purchase_data[\"Gender\"] == \"Other / Non-Disclosed\"]\n",
    "\n",
    "#other_count\n",
    "\n",
    "other_total = len(other_count[\"SN\"].unique())\n",
    "\n",
    "#other_total"
   ]
  },
  {
   "cell_type": "code",
   "execution_count": 14,
   "metadata": {},
   "outputs": [],
   "source": [
    "# Find the percent of other/non-disclosed players\n",
    "\n",
    "other_percent = (other_total / total_players)*100\n",
    "#other_percent"
   ]
  },
  {
   "cell_type": "code",
   "execution_count": 15,
   "metadata": {
    "scrolled": true
   },
   "outputs": [
    {
     "data": {
      "text/html": [
       "<div>\n",
       "<style scoped>\n",
       "    .dataframe tbody tr th:only-of-type {\n",
       "        vertical-align: middle;\n",
       "    }\n",
       "\n",
       "    .dataframe tbody tr th {\n",
       "        vertical-align: top;\n",
       "    }\n",
       "\n",
       "    .dataframe thead th {\n",
       "        text-align: right;\n",
       "    }\n",
       "</style>\n",
       "<table border=\"1\" class=\"dataframe\">\n",
       "  <thead>\n",
       "    <tr style=\"text-align: right;\">\n",
       "      <th></th>\n",
       "      <th>Total Count</th>\n",
       "      <th>Percentage of Players</th>\n",
       "    </tr>\n",
       "    <tr>\n",
       "      <th>Gender</th>\n",
       "      <th></th>\n",
       "      <th></th>\n",
       "    </tr>\n",
       "  </thead>\n",
       "  <tbody>\n",
       "    <tr>\n",
       "      <th>Male</th>\n",
       "      <td>484</td>\n",
       "      <td>84.03%</td>\n",
       "    </tr>\n",
       "    <tr>\n",
       "      <th>Female</th>\n",
       "      <td>81</td>\n",
       "      <td>14.06%</td>\n",
       "    </tr>\n",
       "    <tr>\n",
       "      <th>Other / Non-Disclosed</th>\n",
       "      <td>11</td>\n",
       "      <td>1.91%</td>\n",
       "    </tr>\n",
       "  </tbody>\n",
       "</table>\n",
       "</div>"
      ],
      "text/plain": [
       "                       Total Count Percentage of Players\n",
       "Gender                                                  \n",
       "Male                           484                84.03%\n",
       "Female                          81                14.06%\n",
       "Other / Non-Disclosed           11                 1.91%"
      ]
     },
     "execution_count": 15,
     "metadata": {},
     "output_type": "execute_result"
    }
   ],
   "source": [
    "# Display the Gender Demographics in a dataframe table by creating colums and formatting\n",
    "\n",
    "gender_counts = pd.DataFrame({\"Total Count\":{\"Male\":male_total,\n",
    "                                     \"Female\":female_total,\n",
    "                                     \"Other / Non-Disclosed\":other_total},\n",
    "                              \"Percentage of Players\":{\"Male\":\"{:.2f}%\".format(male_percent),\n",
    "                                                       \"Female\":\"{:.2f}%\".format(female_percent),\n",
    "                                                       \"Other / Non-Disclosed\":\"{:.2f}%\".format(other_percent)}})\n",
    "gender_counts.index.name = \"Gender\"\n",
    "\n",
    "gender_counts"
   ]
  },
  {
   "cell_type": "code",
   "execution_count": 16,
   "metadata": {
    "scrolled": true
   },
   "outputs": [],
   "source": [
    "# Find the number of purchases by males, females and other\n",
    "\n",
    "male_purchase_count = len(male_count)\n",
    "\n",
    "female_purchase_count = len(female_count)\n",
    "\n",
    "other_purchase_count = len(other_count)\n",
    "\n",
    "#male_purchase_count\n",
    "\n",
    "#female_purchase_count\n",
    "\n",
    "#other_purchase_count"
   ]
  },
  {
   "cell_type": "code",
   "execution_count": 17,
   "metadata": {
    "scrolled": true
   },
   "outputs": [],
   "source": [
    "# Create a variable to search the purchase_data dataframe for males, females and other/non-disclosed only\n",
    "\n",
    "male =  purchase_data.loc[purchase_data['Gender']==\"Male\"]\n",
    "\n",
    "female =  purchase_data.loc[purchase_data['Gender']==\"Female\"]\n",
    "\n",
    "other =  purchase_data.loc[purchase_data['Gender']==\"Other / Non-Disclosed\"]\n",
    "\n",
    "#male\n"
   ]
  },
  {
   "cell_type": "code",
   "execution_count": 18,
   "metadata": {
    "scrolled": false
   },
   "outputs": [],
   "source": [
    "# Find the average purchase prices for male, female, other\n",
    "\n",
    "male_average_price = male[\"Price\"].mean()\n",
    "\n",
    "#male_average_price\n",
    "\n",
    "female_average_price = female[\"Price\"].mean()\n",
    "\n",
    "#female_average_price\n",
    "\n",
    "other_average_price = other[\"Price\"].mean()\n",
    "\n",
    "#other_average_price"
   ]
  },
  {
   "cell_type": "code",
   "execution_count": 19,
   "metadata": {},
   "outputs": [],
   "source": [
    "# Find the total purchase values for male, female, other\n",
    "\n",
    "male_total_price = male[\"Price\"].sum()\n",
    "\n",
    "#male_total_price\n",
    "\n",
    "female_total_price = female[\"Price\"].sum()\n",
    "\n",
    "#female_total_price\n",
    "\n",
    "other_total_price = other[\"Price\"].sum()\n",
    "\n",
    "#other_total_price"
   ]
  },
  {
   "cell_type": "code",
   "execution_count": 20,
   "metadata": {
    "scrolled": false
   },
   "outputs": [],
   "source": [
    "# Find the average purchase prices per person by gender; male, female, other\n",
    "\n",
    "male_average_player = male_total_price / male_total\n",
    "\n",
    "#male_average_player\n",
    "\n",
    "female_average_player = female_total_price / female_total\n",
    "\n",
    "#female_average_player\n",
    "\n",
    "other_average_player = other_total_price / other_total\n",
    "\n",
    "#other_average_player"
   ]
  },
  {
   "cell_type": "code",
   "execution_count": 21,
   "metadata": {},
   "outputs": [
    {
     "data": {
      "text/html": [
       "<div>\n",
       "<style scoped>\n",
       "    .dataframe tbody tr th:only-of-type {\n",
       "        vertical-align: middle;\n",
       "    }\n",
       "\n",
       "    .dataframe tbody tr th {\n",
       "        vertical-align: top;\n",
       "    }\n",
       "\n",
       "    .dataframe thead th {\n",
       "        text-align: right;\n",
       "    }\n",
       "</style>\n",
       "<table border=\"1\" class=\"dataframe\">\n",
       "  <thead>\n",
       "    <tr style=\"text-align: right;\">\n",
       "      <th></th>\n",
       "      <th>Purchase Count</th>\n",
       "      <th>Average Purchase Price</th>\n",
       "      <th>Total Purchase Value</th>\n",
       "      <th>Total Purchase per Person</th>\n",
       "    </tr>\n",
       "    <tr>\n",
       "      <th>Gender</th>\n",
       "      <th></th>\n",
       "      <th></th>\n",
       "      <th></th>\n",
       "      <th></th>\n",
       "    </tr>\n",
       "  </thead>\n",
       "  <tbody>\n",
       "    <tr>\n",
       "      <th>Male</th>\n",
       "      <td>652</td>\n",
       "      <td>$3.02</td>\n",
       "      <td>$1967.64</td>\n",
       "      <td>$4.07</td>\n",
       "    </tr>\n",
       "    <tr>\n",
       "      <th>Female</th>\n",
       "      <td>113</td>\n",
       "      <td>$3.20</td>\n",
       "      <td>$361.94</td>\n",
       "      <td>$4.47</td>\n",
       "    </tr>\n",
       "    <tr>\n",
       "      <th>Other / Non-Disclosed</th>\n",
       "      <td>15</td>\n",
       "      <td>$3.35</td>\n",
       "      <td>$50.19</td>\n",
       "      <td>$4.56</td>\n",
       "    </tr>\n",
       "  </tbody>\n",
       "</table>\n",
       "</div>"
      ],
      "text/plain": [
       "                       Purchase Count Average Purchase Price  \\\n",
       "Gender                                                         \n",
       "Male                              652                  $3.02   \n",
       "Female                            113                  $3.20   \n",
       "Other / Non-Disclosed              15                  $3.35   \n",
       "\n",
       "                      Total Purchase Value Total Purchase per Person  \n",
       "Gender                                                                \n",
       "Male                              $1967.64                     $4.07  \n",
       "Female                             $361.94                     $4.47  \n",
       "Other / Non-Disclosed               $50.19                     $4.56  "
      ]
     },
     "execution_count": 21,
     "metadata": {},
     "output_type": "execute_result"
    }
   ],
   "source": [
    "# Display the gender Purchasing Analysis in a dataframe table by creating colums and formatting\n",
    "\n",
    "gender_purchasing_analysis = pd.DataFrame({\"Purchase Count\":{\"Male\":male_purchase_count,\n",
    "                                     \"Female\":female_purchase_count,\n",
    "                                     \"Other / Non-Disclosed\":other_purchase_count},\n",
    "                              \"Average Purchase Price\":{\"Male\":\"${:.2f}\".format(male_average_price),\n",
    "                                                       \"Female\":\"${:.2f}\".format(female_average_price),\n",
    "                                                       \"Other / Non-Disclosed\":\"${:.2f}\".format(other_average_price)},\n",
    "                             \"Total Purchase Value\":{\"Male\":\"${:.2f}\".format(male_total_price),\n",
    "                                                       \"Female\":\"${:.2f}\".format(female_total_price),\n",
    "                                                       \"Other / Non-Disclosed\":\"${:.2f}\".format(other_total_price)},\n",
    "                            \"Total Purchase per Person\":{\"Male\":\"${:.2f}\".format(male_average_player),\n",
    "                                                       \"Female\":\"${:.2f}\".format(female_average_player),\n",
    "                                                       \"Other / Non-Disclosed\":\"${:.2f}\".format(other_average_player)}})\n",
    "gender_purchasing_analysis.index.name = \"Gender\"\n",
    "\n",
    "gender_purchasing_analysis"
   ]
  },
  {
   "cell_type": "code",
   "execution_count": 22,
   "metadata": {
    "scrolled": true
   },
   "outputs": [],
   "source": [
    "# Put ages into bins and create a new column in the purchase_datd dataframe with these bins\n",
    "\n",
    "#purchase_data[\"Age\"].describe()\n",
    "\n",
    "age_bins = [0, 9, 14, 19, 24, 29, 34, 39, 50]\n",
    "\n",
    "age_labels = [\"<10\", \"10-14\", \"15-19\", \"20-24\", \"25-29\", \"30-34\", \"35-39\", \"40+\"]\n",
    "\n",
    "\n",
    "pd.cut(purchase_data[\"Age\"], age_bins, labels=age_labels)\n",
    "\n",
    "purchase_data[\"Age Range\"] = pd.cut(purchase_data[\"Age\"], age_bins, labels=age_labels)\n",
    "\n",
    "#purchase_data.head()"
   ]
  },
  {
   "cell_type": "code",
   "execution_count": 23,
   "metadata": {},
   "outputs": [],
   "source": [
    "# Find the player count by age group\n",
    "\n",
    "age_count_un10 = purchase_data.loc[purchase_data[\"Age Range\"] == \"<10\"]\n",
    "age_total_un10 = len(age_count_un10[\"SN\"].unique())\n",
    "\n",
    "#age_total_un10"
   ]
  },
  {
   "cell_type": "code",
   "execution_count": 24,
   "metadata": {},
   "outputs": [],
   "source": [
    "age_count_10_14 = purchase_data.loc[purchase_data[\"Age Range\"] == \"10-14\"]\n",
    "age_total_10_14 = len(age_count_10_14[\"SN\"].unique())\n",
    "\n",
    "#age_total_10_14 "
   ]
  },
  {
   "cell_type": "code",
   "execution_count": 25,
   "metadata": {},
   "outputs": [],
   "source": [
    "age_count_15_19 = purchase_data.loc[purchase_data[\"Age Range\"] == \"15-19\"]\n",
    "age_total_15_19 = len(age_count_15_19[\"SN\"].unique())\n",
    "\n",
    "#age_total_15_19 "
   ]
  },
  {
   "cell_type": "code",
   "execution_count": 26,
   "metadata": {},
   "outputs": [],
   "source": [
    "age_count_20_24 = purchase_data.loc[purchase_data[\"Age Range\"] == \"20-24\"]\n",
    "age_total_20_24 = len(age_count_20_24[\"SN\"].unique())\n",
    "\n",
    "#age_total_20_24 "
   ]
  },
  {
   "cell_type": "code",
   "execution_count": 27,
   "metadata": {},
   "outputs": [],
   "source": [
    "age_count_25_29 = purchase_data.loc[purchase_data[\"Age Range\"] == \"25-29\"]\n",
    "age_total_25_29 = len(age_count_25_29[\"SN\"].unique())\n",
    "\n",
    "#age_total_25_29"
   ]
  },
  {
   "cell_type": "code",
   "execution_count": 28,
   "metadata": {},
   "outputs": [],
   "source": [
    "age_count_30_34 = purchase_data.loc[purchase_data[\"Age Range\"] == \"30-34\"]\n",
    "age_total_30_34 = len(age_count_30_34[\"SN\"].unique())\n",
    "\n",
    "#age_total_30_34"
   ]
  },
  {
   "cell_type": "code",
   "execution_count": 29,
   "metadata": {},
   "outputs": [],
   "source": [
    "age_count_35_39 = purchase_data.loc[purchase_data[\"Age Range\"] == \"35-39\"]\n",
    "age_total_35_39 = len(age_count_35_39[\"SN\"].unique())\n",
    "\n",
    "#age_total_35_39"
   ]
  },
  {
   "cell_type": "code",
   "execution_count": 30,
   "metadata": {},
   "outputs": [],
   "source": [
    "age_count_40 = purchase_data.loc[purchase_data[\"Age Range\"] == \"40+\"]\n",
    "age_total_40 = len(age_count_40[\"SN\"].unique())\n",
    "\n",
    "#age_total_40"
   ]
  },
  {
   "cell_type": "code",
   "execution_count": 31,
   "metadata": {
    "scrolled": true
   },
   "outputs": [],
   "source": [
    "# Find the percentage of players based on age\n",
    "\n",
    "percent_un10 = (age_total_un10 / total_players)*100\n",
    "\n",
    "#percent_un10"
   ]
  },
  {
   "cell_type": "code",
   "execution_count": 32,
   "metadata": {},
   "outputs": [],
   "source": [
    "percent_10_14 = (age_total_10_14 / total_players)*100\n",
    "\n",
    "#percent_10_14"
   ]
  },
  {
   "cell_type": "code",
   "execution_count": 33,
   "metadata": {},
   "outputs": [],
   "source": [
    "percent_15_19 = (age_total_15_19  / total_players)*100\n",
    "\n",
    "#percent_15_19 "
   ]
  },
  {
   "cell_type": "code",
   "execution_count": 34,
   "metadata": {},
   "outputs": [],
   "source": [
    "percent_20_24 = (age_total_20_24  / total_players)*100\n",
    "\n",
    "#percent_20_24 "
   ]
  },
  {
   "cell_type": "code",
   "execution_count": 35,
   "metadata": {},
   "outputs": [],
   "source": [
    "percent_25_29 = (age_total_25_29  / total_players)*100\n",
    "\n",
    "#percent_25_29"
   ]
  },
  {
   "cell_type": "code",
   "execution_count": 36,
   "metadata": {},
   "outputs": [],
   "source": [
    "percent_30_34 = (age_total_30_34  / total_players)*100\n",
    "\n",
    "#percent_30_34"
   ]
  },
  {
   "cell_type": "code",
   "execution_count": 37,
   "metadata": {},
   "outputs": [],
   "source": [
    "percent_35_39 = (age_total_35_39 / total_players)*100\n",
    "\n",
    "#percent_35_39"
   ]
  },
  {
   "cell_type": "code",
   "execution_count": 38,
   "metadata": {},
   "outputs": [],
   "source": [
    "percent_40 = (age_total_40 / total_players)*100\n",
    "\n",
    "#percent_40"
   ]
  },
  {
   "cell_type": "code",
   "execution_count": 39,
   "metadata": {
    "scrolled": false
   },
   "outputs": [
    {
     "data": {
      "text/html": [
       "<div>\n",
       "<style scoped>\n",
       "    .dataframe tbody tr th:only-of-type {\n",
       "        vertical-align: middle;\n",
       "    }\n",
       "\n",
       "    .dataframe tbody tr th {\n",
       "        vertical-align: top;\n",
       "    }\n",
       "\n",
       "    .dataframe thead th {\n",
       "        text-align: right;\n",
       "    }\n",
       "</style>\n",
       "<table border=\"1\" class=\"dataframe\">\n",
       "  <thead>\n",
       "    <tr style=\"text-align: right;\">\n",
       "      <th></th>\n",
       "      <th>Total Count</th>\n",
       "      <th>Percentage of Players</th>\n",
       "    </tr>\n",
       "    <tr>\n",
       "      <th>Age Range</th>\n",
       "      <th></th>\n",
       "      <th></th>\n",
       "    </tr>\n",
       "  </thead>\n",
       "  <tbody>\n",
       "    <tr>\n",
       "      <th>&lt;10</th>\n",
       "      <td>17</td>\n",
       "      <td>2.95%</td>\n",
       "    </tr>\n",
       "    <tr>\n",
       "      <th>10-14</th>\n",
       "      <td>22</td>\n",
       "      <td>3.82%</td>\n",
       "    </tr>\n",
       "    <tr>\n",
       "      <th>15-19</th>\n",
       "      <td>107</td>\n",
       "      <td>18.58%</td>\n",
       "    </tr>\n",
       "    <tr>\n",
       "      <th>20-24</th>\n",
       "      <td>258</td>\n",
       "      <td>44.79%</td>\n",
       "    </tr>\n",
       "    <tr>\n",
       "      <th>25-29</th>\n",
       "      <td>77</td>\n",
       "      <td>13.37%</td>\n",
       "    </tr>\n",
       "    <tr>\n",
       "      <th>30-34</th>\n",
       "      <td>52</td>\n",
       "      <td>9.03%</td>\n",
       "    </tr>\n",
       "    <tr>\n",
       "      <th>35-39</th>\n",
       "      <td>31</td>\n",
       "      <td>5.38%</td>\n",
       "    </tr>\n",
       "    <tr>\n",
       "      <th>40+</th>\n",
       "      <td>12</td>\n",
       "      <td>2.08%</td>\n",
       "    </tr>\n",
       "  </tbody>\n",
       "</table>\n",
       "</div>"
      ],
      "text/plain": [
       "           Total Count Percentage of Players\n",
       "Age Range                                   \n",
       "<10                 17                 2.95%\n",
       "10-14               22                 3.82%\n",
       "15-19              107                18.58%\n",
       "20-24              258                44.79%\n",
       "25-29               77                13.37%\n",
       "30-34               52                 9.03%\n",
       "35-39               31                 5.38%\n",
       "40+                 12                 2.08%"
      ]
     },
     "execution_count": 39,
     "metadata": {},
     "output_type": "execute_result"
    }
   ],
   "source": [
    "# Display the age counts in a dataframe graph\n",
    "\n",
    "age_amounts = pd.DataFrame({\"Total Count\":{\"<10\":age_total_un10,\n",
    "                                     \"10-14\":age_total_10_14,\n",
    "                                     \"15-19\":age_total_15_19,\n",
    "                                         \"20-24\":age_total_20_24,\n",
    "                                     \"25-29\":age_total_25_29,\n",
    "                                     \"30-34\":age_total_30_34,\n",
    "                                         \"35-39\":age_total_35_39,\n",
    "                                     \"40+\":age_total_40},\n",
    "                              \"Percentage of Players\":{\"<10\":\"{:.2f}%\".format(percent_un10),\n",
    "                                     \"10-14\":\"{:.2f}%\".format(percent_10_14),\n",
    "                                     \"15-19\":\"{:.2f}%\".format(percent_15_19),\n",
    "                                         \"20-24\":\"{:.2f}%\".format(percent_20_24),\n",
    "                                     \"25-29\":\"{:.2f}%\".format(percent_25_29),\n",
    "                                     \"30-34\":\"{:.2f}%\".format(percent_30_34),\n",
    "                                         \"35-39\":\"{:.2f}%\".format(percent_35_39),\n",
    "                                     \"40+\":\"{:.2f}%\".format(percent_40)}})\n",
    "age_amounts.index.name = \"Age Range\"\n",
    "\n",
    "age_amounts"
   ]
  },
  {
   "cell_type": "code",
   "execution_count": 40,
   "metadata": {
    "scrolled": true
   },
   "outputs": [],
   "source": [
    "# Find the purchase counts for each age group\n",
    "\n",
    "purchase_count_un10= len(age_count_un10)\n",
    "purchase_count_10_14= len(age_count_10_14)\n",
    "purchase_count_15_19= len(age_count_15_19)\n",
    "purchase_count_20_24= len(age_count_20_24)\n",
    "purchase_count_25_29= len(age_count_25_29)\n",
    "purchase_count_30_34= len(age_count_30_34)\n",
    "purchase_count_35_39= len(age_count_35_39)\n",
    "purchase_count_40= len(age_count_40)\n",
    "\n",
    "# purchase_count_un10\n",
    "# purchase_count_10_14\n",
    "# purchase_count_15_19\n",
    "# purchase_count_20_24\n",
    "# purchase_count_25_29\n",
    "# purchase_count_30_34\n",
    "# purchase_count_35_39\n",
    "# purchase_count_40"
   ]
  },
  {
   "cell_type": "code",
   "execution_count": 41,
   "metadata": {
    "scrolled": true
   },
   "outputs": [],
   "source": [
    "# Find the average purchase price for each age group\n",
    "\n",
    "average_price_un10 = purchase_data.loc[purchase_data[\"Age Range\"]==\"<10\"].Price.mean()\n",
    "average_price_10_14 = purchase_data.loc[purchase_data[\"Age Range\"]==\"10-14\"].Price.mean()\n",
    "average_price_15_19 = purchase_data.loc[purchase_data[\"Age Range\"]==\"15-19\"].Price.mean()\n",
    "average_price_20_24 = purchase_data.loc[purchase_data[\"Age Range\"]==\"20-24\"].Price.mean()\n",
    "average_price_25_29 = purchase_data.loc[purchase_data[\"Age Range\"]==\"25-29\"].Price.mean()\n",
    "average_price_30_34 = purchase_data.loc[purchase_data[\"Age Range\"]==\"30-34\"].Price.mean()\n",
    "average_price_35_39 = purchase_data.loc[purchase_data[\"Age Range\"]==\"35-39\"].Price.mean()\n",
    "average_price_40 = purchase_data.loc[purchase_data[\"Age Range\"]==\"40+\"].Price.mean()\n",
    "               \n",
    "# average_price_un10\n",
    "# average_price_10_14\n",
    "# average_price_15_19\n",
    "# average_price_20_24\n",
    "# average_price_25_29\n",
    "# average_price_30_34\n",
    "# average_price_35_39\n",
    "# average_price_40"
   ]
  },
  {
   "cell_type": "code",
   "execution_count": 42,
   "metadata": {},
   "outputs": [],
   "source": [
    "# Find the total purchase value for each age group\n",
    "\n",
    "total_price_un10 = purchase_data.loc[purchase_data[\"Age Range\"]==\"<10\"].Price.sum()\n",
    "total_price_10_14 = purchase_data.loc[purchase_data[\"Age Range\"]==\"10-14\"].Price.sum()\n",
    "total_price_15_19 = purchase_data.loc[purchase_data[\"Age Range\"]==\"15-19\"].Price.sum()\n",
    "total_price_20_24 = purchase_data.loc[purchase_data[\"Age Range\"]==\"20-24\"].Price.sum()\n",
    "total_price_25_29 = purchase_data.loc[purchase_data[\"Age Range\"]==\"25-29\"].Price.sum()\n",
    "total_price_30_34 = purchase_data.loc[purchase_data[\"Age Range\"]==\"30-34\"].Price.sum()\n",
    "total_price_35_39 = purchase_data.loc[purchase_data[\"Age Range\"]==\"35-39\"].Price.sum()\n",
    "total_price_40 = purchase_data.loc[purchase_data[\"Age Range\"]==\"40+\"].Price.sum()\n",
    "\n",
    "# total_price_un10\n",
    "# total_price_10_14\n",
    "# total_price_15_19\n",
    "# total_price_20_24\n",
    "# total_price_25_29\n",
    "# total_price_30_34\n",
    "# total_price_35_39\n",
    "# total_price_40"
   ]
  },
  {
   "cell_type": "code",
   "execution_count": 43,
   "metadata": {},
   "outputs": [],
   "source": [
    "# Find the Avergae Total per Person by Age Group\n",
    "\n",
    "average_person_price_un10 = total_price_un10 / age_total_un10\n",
    "average_person_price_10_14 = total_price_10_14 / age_total_10_14\n",
    "average_person_price_15_19 = total_price_15_19 / age_total_15_19\n",
    "average_person_price_20_24 = total_price_20_24 / age_total_20_24\n",
    "average_person_price_25_29 = total_price_25_29 / age_total_25_29\n",
    "average_person_price_30_34 = total_price_30_34 / age_total_30_34\n",
    "average_person_price_35_39 = total_price_35_39 / age_total_35_39\n",
    "average_person_price_40 = total_price_40 / age_total_40\n",
    "\n",
    "# average_person_price_un10\n",
    "# average_person_price_10_14\n",
    "# average_person_price_15_19\n",
    "# average_person_price_20_24\n",
    "# average_person_price_25_29\n",
    "# average_person_price_30_34\n",
    "# average_person_price_35_39\n",
    "# average_person_price_40"
   ]
  },
  {
   "cell_type": "code",
   "execution_count": 44,
   "metadata": {
    "scrolled": true
   },
   "outputs": [
    {
     "data": {
      "text/html": [
       "<div>\n",
       "<style scoped>\n",
       "    .dataframe tbody tr th:only-of-type {\n",
       "        vertical-align: middle;\n",
       "    }\n",
       "\n",
       "    .dataframe tbody tr th {\n",
       "        vertical-align: top;\n",
       "    }\n",
       "\n",
       "    .dataframe thead th {\n",
       "        text-align: right;\n",
       "    }\n",
       "</style>\n",
       "<table border=\"1\" class=\"dataframe\">\n",
       "  <thead>\n",
       "    <tr style=\"text-align: right;\">\n",
       "      <th></th>\n",
       "      <th>Purchase Count</th>\n",
       "      <th>Average Purchase Price</th>\n",
       "      <th>Total Purchase Value</th>\n",
       "      <th>Total Purchase per Person</th>\n",
       "    </tr>\n",
       "    <tr>\n",
       "      <th>Age Range</th>\n",
       "      <th></th>\n",
       "      <th></th>\n",
       "      <th></th>\n",
       "      <th></th>\n",
       "    </tr>\n",
       "  </thead>\n",
       "  <tbody>\n",
       "    <tr>\n",
       "      <th>&lt;10</th>\n",
       "      <td>23</td>\n",
       "      <td>$3.35</td>\n",
       "      <td>$77.13</td>\n",
       "      <td>$4.54</td>\n",
       "    </tr>\n",
       "    <tr>\n",
       "      <th>10-14</th>\n",
       "      <td>28</td>\n",
       "      <td>$2.96</td>\n",
       "      <td>$82.78</td>\n",
       "      <td>$3.76</td>\n",
       "    </tr>\n",
       "    <tr>\n",
       "      <th>15-19</th>\n",
       "      <td>136</td>\n",
       "      <td>$3.04</td>\n",
       "      <td>$412.89</td>\n",
       "      <td>$3.86</td>\n",
       "    </tr>\n",
       "    <tr>\n",
       "      <th>20-24</th>\n",
       "      <td>365</td>\n",
       "      <td>$3.05</td>\n",
       "      <td>$1114.06</td>\n",
       "      <td>$4.32</td>\n",
       "    </tr>\n",
       "    <tr>\n",
       "      <th>25-29</th>\n",
       "      <td>101</td>\n",
       "      <td>$2.90</td>\n",
       "      <td>$293.00</td>\n",
       "      <td>$3.81</td>\n",
       "    </tr>\n",
       "    <tr>\n",
       "      <th>30-34</th>\n",
       "      <td>73</td>\n",
       "      <td>$2.93</td>\n",
       "      <td>$214.00</td>\n",
       "      <td>$4.12</td>\n",
       "    </tr>\n",
       "    <tr>\n",
       "      <th>35-39</th>\n",
       "      <td>41</td>\n",
       "      <td>$3.60</td>\n",
       "      <td>$147.67</td>\n",
       "      <td>$4.76</td>\n",
       "    </tr>\n",
       "    <tr>\n",
       "      <th>40+</th>\n",
       "      <td>13</td>\n",
       "      <td>$2.94</td>\n",
       "      <td>$38.24</td>\n",
       "      <td>$3.19</td>\n",
       "    </tr>\n",
       "  </tbody>\n",
       "</table>\n",
       "</div>"
      ],
      "text/plain": [
       "           Purchase Count Average Purchase Price Total Purchase Value  \\\n",
       "Age Range                                                               \n",
       "<10                    23                  $3.35               $77.13   \n",
       "10-14                  28                  $2.96               $82.78   \n",
       "15-19                 136                  $3.04              $412.89   \n",
       "20-24                 365                  $3.05             $1114.06   \n",
       "25-29                 101                  $2.90              $293.00   \n",
       "30-34                  73                  $2.93              $214.00   \n",
       "35-39                  41                  $3.60              $147.67   \n",
       "40+                    13                  $2.94               $38.24   \n",
       "\n",
       "          Total Purchase per Person  \n",
       "Age Range                            \n",
       "<10                           $4.54  \n",
       "10-14                         $3.76  \n",
       "15-19                         $3.86  \n",
       "20-24                         $4.32  \n",
       "25-29                         $3.81  \n",
       "30-34                         $4.12  \n",
       "35-39                         $4.76  \n",
       "40+                           $3.19  "
      ]
     },
     "execution_count": 44,
     "metadata": {},
     "output_type": "execute_result"
    }
   ],
   "source": [
    "# Display the Age Demographics in a dataframe table by creating colums and formatting\n",
    "\n",
    "age_purchasing_analysis = pd.DataFrame({\"Purchase Count\":{\"<10\":purchase_count_un10,\n",
    "                                     \"10-14\":purchase_count_10_14,\n",
    "                                      \"15-19\":purchase_count_15_19,\n",
    "                                       \"20-24\":purchase_count_20_24,\n",
    "                                        \"25-29\":purchase_count_25_29,\n",
    "                                     \"30-34\":purchase_count_30_34,\n",
    "                                         \"35-39\":purchase_count_35_39,\n",
    "                                         \"40+\":purchase_count_40},\n",
    "                              \"Average Purchase Price\":{\"<10\":\"${:.2f}\".format(average_price_un10),\n",
    "                                                       \"10-14\":\"${:.2f}\".format(average_price_10_14),\n",
    "                                                       \"15-19\":\"${:.2f}\".format(average_price_15_19),\n",
    "                                                       \"20-24\":\"${:.2f}\".format(average_price_20_24),\n",
    "                                                       \"25-29\":\"${:.2f}\".format(average_price_25_29),\n",
    "                                                       \"30-34\":\"${:.2f}\".format(average_price_30_34),\n",
    "                                                        \"35-39\":\"${:.2f}\".format(average_price_35_39),\n",
    "                                                       \"40+\":\"${:.2f}\".format(average_price_40)},\n",
    "                             \"Total Purchase Value\":{\"<10\":\"${:.2f}\".format(total_price_un10),\n",
    "                                                       \"10-14\":\"${:.2f}\".format(total_price_10_14),\n",
    "                                                       \"15-19\":\"${:.2f}\".format(total_price_15_19),\n",
    "                                                       \"20-24\":\"${:.2f}\".format(total_price_20_24),\n",
    "                                                       \"25-29\":\"${:.2f}\".format(total_price_25_29),\n",
    "                                                       \"30-34\":\"${:.2f}\".format(total_price_30_34),\n",
    "                                                        \"35-39\":\"${:.2f}\".format(total_price_35_39),\n",
    "                                                       \"40+\":\"${:.2f}\".format(total_price_40)},\n",
    "                            \"Total Purchase per Person\":{\"<10\":\"${:.2f}\".format(average_person_price_un10),\n",
    "                                                       \"10-14\":\"${:.2f}\".format(average_person_price_10_14),\n",
    "                                                       \"15-19\":\"${:.2f}\".format(average_person_price_15_19),\n",
    "                                                       \"20-24\":\"${:.2f}\".format(average_person_price_20_24),\n",
    "                                                       \"25-29\":\"${:.2f}\".format(average_person_price_25_29),\n",
    "                                                       \"30-34\":\"${:.2f}\".format(average_person_price_30_34),\n",
    "                                                        \"35-39\":\"${:.2f}\".format(average_person_price_35_39),\n",
    "                                                       \"40+\":\"${:.2f}\".format(average_person_price_40)}})\n",
    "age_purchasing_analysis.index.name = \"Age Range\"\n",
    "\n",
    "age_purchasing_analysis"
   ]
  },
  {
   "cell_type": "code",
   "execution_count": 45,
   "metadata": {
    "scrolled": false
   },
   "outputs": [
    {
     "data": {
      "text/html": [
       "<div>\n",
       "<style scoped>\n",
       "    .dataframe tbody tr th:only-of-type {\n",
       "        vertical-align: middle;\n",
       "    }\n",
       "\n",
       "    .dataframe tbody tr th {\n",
       "        vertical-align: top;\n",
       "    }\n",
       "\n",
       "    .dataframe thead th {\n",
       "        text-align: right;\n",
       "    }\n",
       "</style>\n",
       "<table border=\"1\" class=\"dataframe\">\n",
       "  <thead>\n",
       "    <tr style=\"text-align: right;\">\n",
       "      <th></th>\n",
       "      <th>Purchase Count</th>\n",
       "      <th>Average Purchase Price</th>\n",
       "      <th>Total Purchase Value</th>\n",
       "    </tr>\n",
       "    <tr>\n",
       "      <th>SN</th>\n",
       "      <th></th>\n",
       "      <th></th>\n",
       "      <th></th>\n",
       "    </tr>\n",
       "  </thead>\n",
       "  <tbody>\n",
       "    <tr>\n",
       "      <th>Lisosia93</th>\n",
       "      <td>5</td>\n",
       "      <td>$3.79</td>\n",
       "      <td>$18.96</td>\n",
       "    </tr>\n",
       "    <tr>\n",
       "      <th>Idastidru52</th>\n",
       "      <td>4</td>\n",
       "      <td>$3.86</td>\n",
       "      <td>$15.45</td>\n",
       "    </tr>\n",
       "    <tr>\n",
       "      <th>Chamjask73</th>\n",
       "      <td>3</td>\n",
       "      <td>$4.61</td>\n",
       "      <td>$13.83</td>\n",
       "    </tr>\n",
       "    <tr>\n",
       "      <th>Iral74</th>\n",
       "      <td>4</td>\n",
       "      <td>$3.40</td>\n",
       "      <td>$13.62</td>\n",
       "    </tr>\n",
       "    <tr>\n",
       "      <th>Iskadarya95</th>\n",
       "      <td>3</td>\n",
       "      <td>$4.37</td>\n",
       "      <td>$13.10</td>\n",
       "    </tr>\n",
       "  </tbody>\n",
       "</table>\n",
       "</div>"
      ],
      "text/plain": [
       "             Purchase Count Average Purchase Price Total Purchase Value\n",
       "SN                                                                     \n",
       "Lisosia93                 5                  $3.79               $18.96\n",
       "Idastidru52               4                  $3.86               $15.45\n",
       "Chamjask73                3                  $4.61               $13.83\n",
       "Iral74                    4                  $3.40               $13.62\n",
       "Iskadarya95               3                  $4.37               $13.10"
      ]
     },
     "execution_count": 45,
     "metadata": {},
     "output_type": "execute_result"
    }
   ],
   "source": [
    "# Find the top 5 spenders by grouping based on player\n",
    "\n",
    "sn_group = purchase_data.groupby(\"SN\").agg({\"Price\": [\"count\", \"mean\", \"sum\"]})\n",
    "\n",
    "#sn_group\n",
    "\n",
    "# Create columns for the dataframe\n",
    "\n",
    "sn_group.columns = [\"Purchase Count\", \"Average Purchase Price\", \"Total Purchase Value\"]\n",
    "\n",
    "# Sort the dataframe based on total purchase value\n",
    "\n",
    "sn_group = sn_group.sort_values(\"Total Purchase Value\", ascending=False)\n",
    "\n",
    "# Format\n",
    "\n",
    "sn_group[\"Average Purchase Price\"] = sn_group.apply(lambda x: \"${:.2f}\".format(x[\"Average Purchase Price\"]), axis=1)\n",
    "\n",
    "sn_group[\"Total Purchase Value\"] = sn_group.apply(lambda x: \"${:.2f}\".format(x[\"Total Purchase Value\"]), axis=1)\n",
    "\n",
    "# Only show top 5\n",
    "\n",
    "sn_top_5 = sn_group.head(5)\n",
    "\n",
    "# Display the dataframe table for Top Spenders\n",
    "\n",
    "sn_top_5"
   ]
  },
  {
   "cell_type": "code",
   "execution_count": 46,
   "metadata": {
    "scrolled": true
   },
   "outputs": [
    {
     "data": {
      "text/html": [
       "<div>\n",
       "<style scoped>\n",
       "    .dataframe tbody tr th:only-of-type {\n",
       "        vertical-align: middle;\n",
       "    }\n",
       "\n",
       "    .dataframe tbody tr th {\n",
       "        vertical-align: top;\n",
       "    }\n",
       "\n",
       "    .dataframe thead th {\n",
       "        text-align: right;\n",
       "    }\n",
       "</style>\n",
       "<table border=\"1\" class=\"dataframe\">\n",
       "  <thead>\n",
       "    <tr style=\"text-align: right;\">\n",
       "      <th></th>\n",
       "      <th></th>\n",
       "      <th>Purchase Count</th>\n",
       "      <th>Item Price</th>\n",
       "      <th>Total Purchase Value</th>\n",
       "    </tr>\n",
       "    <tr>\n",
       "      <th>Item ID</th>\n",
       "      <th>Item Name</th>\n",
       "      <th></th>\n",
       "      <th></th>\n",
       "      <th></th>\n",
       "    </tr>\n",
       "  </thead>\n",
       "  <tbody>\n",
       "    <tr>\n",
       "      <th>92</th>\n",
       "      <th>Final Critic</th>\n",
       "      <td>13</td>\n",
       "      <td>$4.61</td>\n",
       "      <td>$59.99</td>\n",
       "    </tr>\n",
       "    <tr>\n",
       "      <th>178</th>\n",
       "      <th>Oathbreaker, Last Hope of the Breaking Storm</th>\n",
       "      <td>12</td>\n",
       "      <td>$4.23</td>\n",
       "      <td>$50.76</td>\n",
       "    </tr>\n",
       "    <tr>\n",
       "      <th>145</th>\n",
       "      <th>Fiery Glass Crusader</th>\n",
       "      <td>9</td>\n",
       "      <td>$4.58</td>\n",
       "      <td>$41.22</td>\n",
       "    </tr>\n",
       "    <tr>\n",
       "      <th>132</th>\n",
       "      <th>Persuasion</th>\n",
       "      <td>9</td>\n",
       "      <td>$3.22</td>\n",
       "      <td>$28.99</td>\n",
       "    </tr>\n",
       "    <tr>\n",
       "      <th>108</th>\n",
       "      <th>Extraction, Quickblade Of Trembling Hands</th>\n",
       "      <td>9</td>\n",
       "      <td>$3.53</td>\n",
       "      <td>$31.77</td>\n",
       "    </tr>\n",
       "  </tbody>\n",
       "</table>\n",
       "</div>"
      ],
      "text/plain": [
       "                                                      Purchase Count  \\\n",
       "Item ID Item Name                                                      \n",
       "92      Final Critic                                              13   \n",
       "178     Oathbreaker, Last Hope of the Breaking Storm              12   \n",
       "145     Fiery Glass Crusader                                       9   \n",
       "132     Persuasion                                                 9   \n",
       "108     Extraction, Quickblade Of Trembling Hands                  9   \n",
       "\n",
       "                                                     Item Price  \\\n",
       "Item ID Item Name                                                 \n",
       "92      Final Critic                                      $4.61   \n",
       "178     Oathbreaker, Last Hope of the Breaking Storm      $4.23   \n",
       "145     Fiery Glass Crusader                              $4.58   \n",
       "132     Persuasion                                        $3.22   \n",
       "108     Extraction, Quickblade Of Trembling Hands         $3.53   \n",
       "\n",
       "                                                     Total Purchase Value  \n",
       "Item ID Item Name                                                          \n",
       "92      Final Critic                                               $59.99  \n",
       "178     Oathbreaker, Last Hope of the Breaking Storm               $50.76  \n",
       "145     Fiery Glass Crusader                                       $41.22  \n",
       "132     Persuasion                                                 $28.99  \n",
       "108     Extraction, Quickblade Of Trembling Hands                  $31.77  "
      ]
     },
     "execution_count": 46,
     "metadata": {},
     "output_type": "execute_result"
    }
   ],
   "source": [
    "# Find the top 5 most popular items by grouping by item ID and Name\n",
    "\n",
    "item_group = purchase_data.groupby([\"Item ID\", \"Item Name\"]).agg({\"Item Name\": \"count\", \"Price\": [\"mean\",\"sum\"]})\n",
    "\n",
    "#item_group\n",
    "\n",
    "# Create columns labels for dataframe\n",
    "\n",
    "item_group.columns = [\"Purchase Count\", \"Item Price\", \"Total Purchase Value\"]\n",
    "\n",
    "# Sort based on purchase count\n",
    "\n",
    "item_group_pop = item_group.sort_values(\"Purchase Count\", ascending=False)\n",
    "\n",
    "#item_group_pop\n",
    "\n",
    "# Format\n",
    "\n",
    "item_group_pop[\"Item Price\"] = item_group_pop.apply(lambda x: \"${:.2f}\".format(x[\"Item Price\"]), axis=1)\n",
    "\n",
    "item_group_pop[\"Total Purchase Value\"] = item_group_pop.apply(lambda x: \"${:.2f}\".format(x[\"Total Purchase Value\"]), axis=1)\n",
    "\n",
    "# Only want top 5\n",
    "\n",
    "item_top_5_pop = item_group_pop.head(5)\n",
    "\n",
    "# Display dataframe table for Most Popular Items\n",
    "\n",
    "item_top_5_pop"
   ]
  },
  {
   "cell_type": "code",
   "execution_count": 47,
   "metadata": {
    "scrolled": true
   },
   "outputs": [
    {
     "data": {
      "text/html": [
       "<div>\n",
       "<style scoped>\n",
       "    .dataframe tbody tr th:only-of-type {\n",
       "        vertical-align: middle;\n",
       "    }\n",
       "\n",
       "    .dataframe tbody tr th {\n",
       "        vertical-align: top;\n",
       "    }\n",
       "\n",
       "    .dataframe thead th {\n",
       "        text-align: right;\n",
       "    }\n",
       "</style>\n",
       "<table border=\"1\" class=\"dataframe\">\n",
       "  <thead>\n",
       "    <tr style=\"text-align: right;\">\n",
       "      <th></th>\n",
       "      <th></th>\n",
       "      <th>Purchase Count</th>\n",
       "      <th>Item Price</th>\n",
       "      <th>Total Purchase Value</th>\n",
       "    </tr>\n",
       "    <tr>\n",
       "      <th>Item ID</th>\n",
       "      <th>Item Name</th>\n",
       "      <th></th>\n",
       "      <th></th>\n",
       "      <th></th>\n",
       "    </tr>\n",
       "  </thead>\n",
       "  <tbody>\n",
       "    <tr>\n",
       "      <th>92</th>\n",
       "      <th>Final Critic</th>\n",
       "      <td>13</td>\n",
       "      <td>$4.61</td>\n",
       "      <td>$59.99</td>\n",
       "    </tr>\n",
       "    <tr>\n",
       "      <th>178</th>\n",
       "      <th>Oathbreaker, Last Hope of the Breaking Storm</th>\n",
       "      <td>12</td>\n",
       "      <td>$4.23</td>\n",
       "      <td>$50.76</td>\n",
       "    </tr>\n",
       "    <tr>\n",
       "      <th>82</th>\n",
       "      <th>Nirvana</th>\n",
       "      <td>9</td>\n",
       "      <td>$4.90</td>\n",
       "      <td>$44.10</td>\n",
       "    </tr>\n",
       "    <tr>\n",
       "      <th>145</th>\n",
       "      <th>Fiery Glass Crusader</th>\n",
       "      <td>9</td>\n",
       "      <td>$4.58</td>\n",
       "      <td>$41.22</td>\n",
       "    </tr>\n",
       "    <tr>\n",
       "      <th>103</th>\n",
       "      <th>Singed Scalpel</th>\n",
       "      <td>8</td>\n",
       "      <td>$4.35</td>\n",
       "      <td>$34.80</td>\n",
       "    </tr>\n",
       "  </tbody>\n",
       "</table>\n",
       "</div>"
      ],
      "text/plain": [
       "                                                      Purchase Count  \\\n",
       "Item ID Item Name                                                      \n",
       "92      Final Critic                                              13   \n",
       "178     Oathbreaker, Last Hope of the Breaking Storm              12   \n",
       "82      Nirvana                                                    9   \n",
       "145     Fiery Glass Crusader                                       9   \n",
       "103     Singed Scalpel                                             8   \n",
       "\n",
       "                                                     Item Price  \\\n",
       "Item ID Item Name                                                 \n",
       "92      Final Critic                                      $4.61   \n",
       "178     Oathbreaker, Last Hope of the Breaking Storm      $4.23   \n",
       "82      Nirvana                                           $4.90   \n",
       "145     Fiery Glass Crusader                              $4.58   \n",
       "103     Singed Scalpel                                    $4.35   \n",
       "\n",
       "                                                     Total Purchase Value  \n",
       "Item ID Item Name                                                          \n",
       "92      Final Critic                                               $59.99  \n",
       "178     Oathbreaker, Last Hope of the Breaking Storm               $50.76  \n",
       "82      Nirvana                                                    $44.10  \n",
       "145     Fiery Glass Crusader                                       $41.22  \n",
       "103     Singed Scalpel                                             $34.80  "
      ]
     },
     "execution_count": 47,
     "metadata": {},
     "output_type": "execute_result"
    }
   ],
   "source": [
    "# Find top 5 spenders from the previous item grouped by dataframe, sort based on total purchase value\n",
    "\n",
    "item_group_val = item_group.sort_values(\"Total Purchase Value\", ascending=False)\n",
    "\n",
    "#item_group_val\n",
    "\n",
    "# Format\n",
    "\n",
    "item_group_val[\"Item Price\"] = item_group_val.apply(lambda x: \"${:.2f}\".format(x[\"Item Price\"]), axis=1)\n",
    "\n",
    "item_group_val[\"Total Purchase Value\"] = item_group_val.apply(lambda x: \"${:.2f}\".format(x[\"Total Purchase Value\"]), axis=1)\n",
    "\n",
    "# Only want top 5\n",
    "\n",
    "item_top_5_val = item_group_val.head(5)\n",
    "\n",
    "# Display dataframe table for Most Profitable Items\n",
    "\n",
    "item_top_5_val"
   ]
  },
  {
   "cell_type": "code",
   "execution_count": null,
   "metadata": {},
   "outputs": [],
   "source": []
  }
 ],
 "metadata": {
  "kernelspec": {
   "display_name": "Python 3",
   "language": "python",
   "name": "python3"
  },
  "language_info": {
   "codemirror_mode": {
    "name": "ipython",
    "version": 3
   },
   "file_extension": ".py",
   "mimetype": "text/x-python",
   "name": "python",
   "nbconvert_exporter": "python",
   "pygments_lexer": "ipython3",
   "version": "3.8.5"
  }
 },
 "nbformat": 4,
 "nbformat_minor": 4
}
